{
 "cells": [
  {
   "cell_type": "code",
   "execution_count": 3,
   "id": "e63980ee",
   "metadata": {},
   "outputs": [
    {
     "name": "stdout",
     "output_type": "stream",
     "text": [
      "1\n",
      "3\n"
     ]
    }
   ],
   "source": [
    "# String Methods\n",
    "# 3. Count : Frequency of a character, if PRESENT\n",
    "# Syn: stringName.count()\n",
    "s = \"pyTHon ProgramMINg in December\"\n",
    "print(s.count('p'))\n",
    "print(s.count('e'))"
   ]
  },
  {
   "cell_type": "code",
   "execution_count": 9,
   "id": "f1080ca2",
   "metadata": {},
   "outputs": [
    {
     "name": "stdout",
     "output_type": "stream",
     "text": [
      "do learning do pushing do growing do enjoying\n",
      "do learning do pushing do growing keep enjoying\n"
     ]
    }
   ],
   "source": [
    "# 4. Replace : Replacing old pattern with new pattern\n",
    "# replace all in word\n",
    "# stringName.replace(old, new)\n",
    "\n",
    "s = \"keep learning keep pushing keep growing keep enjoying\"\n",
    "print(s.replace(\"keep\", \"do\"))\n",
    "print(s.replace(\"keep\", \"do\", 3))  # replace first 3 'keep' to 'do' "
   ]
  },
  {
   "cell_type": "code",
   "execution_count": 17,
   "id": "ccef0194",
   "metadata": {},
   "outputs": [
    {
     "name": "stdout",
     "output_type": "stream",
     "text": [
      "0\n",
      "23\n",
      "0\n",
      "27\n",
      "27\n"
     ]
    }
   ],
   "source": [
    "# 5. Find and Index\n",
    "# return the position of the pattern from the LEFT side, if exist else will return -1 (find)\n",
    "# return the First OCCURENCE (index)\n",
    "\n",
    "msg = \"you have won the prize and you will receive it by tonight. may you have nice day\"\n",
    "print(msg.find(\"you\"))\n",
    "print(msg.find(\"and\"))\n",
    "print(msg.index(\"you\"))\n",
    "print(msg.find(\"you\",25)) # will be used find second 'you' position\n",
    "print(msg.find(\"you\",msg.find(\"you\")+1)) # without using position value"
   ]
  },
  {
   "cell_type": "code",
   "execution_count": 20,
   "id": "bde78878",
   "metadata": {},
   "outputs": [
    {
     "name": "stdout",
     "output_type": "stream",
     "text": [
      "23\n",
      "58\n",
      "58\n"
     ]
    }
   ],
   "source": [
    "# 5.1. rfind and rindex\n",
    "# return the position of the pattern from the RIGTH side, if exist else will return -1 (rfind)\n",
    "# return the First OCCURENCE.. \n",
    "# Output Positions are referred wrt LEFT only (rindex)\n",
    "\n",
    "msg = \"you have won the prize and you will receive it by tonight and may you have nice day\"\n",
    "print(msg.find(\"and\"))\n",
    "print(msg.rfind(\"and\"))\n",
    "print(msg.rfind(\"and\",msg.rfind(\"and\")))"
   ]
  },
  {
   "cell_type": "code",
   "execution_count": 24,
   "id": "fa988a32",
   "metadata": {},
   "outputs": [
    {
     "name": "stdout",
     "output_type": "stream",
     "text": [
      "Enter the string:m jay\n",
      "Enter the width of string you want:20\n",
      "*******m jay********\n",
      "***************m jay\n",
      "m jay***************\n",
      "000000000000000m jay\n"
     ]
    }
   ],
   "source": [
    "# 6.Formatting\n",
    "# change of width according to user choice\n",
    "\n",
    "s=input(\"Enter the string:\")\n",
    "w=int(input(\"Enter the width of string you want:\"))\n",
    "print(s.center(w,\"*\"))\n",
    "print(s.rjust(w,\"*\"))\n",
    "print(s.ljust(w,\"*\"))\n",
    "print(s.zfill(w)) # will fill empty spaces with 0"
   ]
  },
  {
   "cell_type": "code",
   "execution_count": 29,
   "id": "70cfc8f1",
   "metadata": {},
   "outputs": [
    {
     "name": "stdout",
     "output_type": "stream",
     "text": [
      "Mention Name : jaya\n",
      "Mention Age : 32\n",
      "Mention Salary : 12131\n",
      "jaya is earning $12131.00 at the age of 32\n",
      "jaya is earning $12131.0 at the age of 32\n",
      "jaya is earning $12131.0 at the age of 32\n",
      "jaya is earning $12131.0 at the age of 32 and jaya belongs to Delhi and is living since 32\n",
      "JAYA is earning ₹12131.0 at the age of 32 and jaya belongs to Delhi and he is living since 22\n"
     ]
    }
   ],
   "source": [
    "# 7.Format Function\n",
    "# xyz = \"{0} is earning ${1} at the age of {2}\n",
    "\n",
    "name = input(\"Mention Name : \")\n",
    "age = int(input(\"Mention Age : \"))\n",
    "salary = float(input(\"Mention Salary : \"))\n",
    "print( \"%s is earning $%0.2f at the age of %d\"%(name, salary, age) ) # old method\n",
    "print( \"{0} is earning ${1} at the age of {2}\".format(name, salary, age) ) # new method\n",
    "print( f\"{name} is earning ${salary} at the age of {age}\" ) #updated method\n",
    "print( f\"\"\"{name} is earning ${salary} at the age of {age} and {name} belongs to Delhi and is living since {age}\"\"\")\n",
    "print( f\"\"\"{name.upper()} is earning ₹{salary} at the age of {age} and {name.lower()} belongs to Delhi and he is living since {age - 10}\"\"\" )"
   ]
  },
  {
   "cell_type": "code",
   "execution_count": 30,
   "id": "a224e220",
   "metadata": {},
   "outputs": [
    {
     "name": "stdout",
     "output_type": "stream",
     "text": [
      "True\n",
      "False\n",
      "False\n",
      "False\n",
      "True\n",
      "False\n",
      "True\n"
     ]
    }
   ],
   "source": [
    "# 8.String Test Cases\n",
    "# return True is expression is right else False\n",
    "\n",
    "s = \"python\"\n",
    "print( s.islower() ) # hello sir\n",
    "print( s.isupper() ) # # HELLO SIR\n",
    "print( s.istitle() ) # Hello Sir\n",
    "print( s.isspace() ) # \"    \"\n",
    "print( s.isalpha() )  # a-z, A-Z\n",
    "print( s.isdigit() ) # 0 - 9\n",
    "print( s.isalnum() ) # alnum : alpha numeric :: a-z, A-Z, 0 - 9"
   ]
  },
  {
   "cell_type": "code",
   "execution_count": 35,
   "id": "54e0ed04",
   "metadata": {
    "scrolled": true
   },
   "outputs": [
    {
     "name": "stdout",
     "output_type": "stream",
     "text": [
      "python programming\n",
      "PYTHON PROGRAMMING\n",
      "Python Programming\n"
     ]
    }
   ],
   "source": [
    "s = \"pytHon proGraMmiNg\"\n",
    "print( s.lower() ) # hello sir\n",
    "print( s.upper() ) # # HELLO SIR\n",
    "print( s.title() ) # Hello Sir\n",
    "# print( s.space() ) # \"    \"\n",
    "# print( s.isalpha() )  # a-z, A-Z\n",
    "# print( s.isdigit() ) # 0 - 9\n",
    "# print( s.isalnum() ) # alnum : alpha numeric :: a-z, A-Z, 0 - 9"
   ]
  },
  {
   "cell_type": "code",
   "execution_count": null,
   "id": "1b60773a",
   "metadata": {},
   "outputs": [],
   "source": []
  }
 ],
 "metadata": {
  "kernelspec": {
   "display_name": "Python 3 (ipykernel)",
   "language": "python",
   "name": "python3"
  },
  "language_info": {
   "codemirror_mode": {
    "name": "ipython",
    "version": 3
   },
   "file_extension": ".py",
   "mimetype": "text/x-python",
   "name": "python",
   "nbconvert_exporter": "python",
   "pygments_lexer": "ipython3",
   "version": "3.9.13"
  }
 },
 "nbformat": 4,
 "nbformat_minor": 5
}
