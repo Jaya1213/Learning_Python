{
 "cells": [
  {
   "cell_type": "markdown",
   "id": "d02f1bf1",
   "metadata": {},
   "source": [
    "### For Loop"
   ]
  },
  {
   "cell_type": "code",
   "execution_count": null,
   "id": "e5a74a0c",
   "metadata": {},
   "outputs": [],
   "source": [
    "# Use to take care of repeat the given task or statements\n",
    "# Iterate over the sequence\n",
    "#syntax:: \n",
    "#for iterator in range(start, end):\n",
    "#      statements..."
   ]
  },
  {
   "cell_type": "code",
   "execution_count": null,
   "id": "990e6d49",
   "metadata": {},
   "outputs": [],
   "source": [
    "# range( start, end )\n",
    "# this creates a sequence between start and (end - 1)\n",
    "# default value is 0 for start\n",
    "# default value is 1 for step size"
   ]
  },
  {
   "cell_type": "code",
   "execution_count": 4,
   "id": "95c2f55a",
   "metadata": {},
   "outputs": [
    {
     "name": "stdout",
     "output_type": "stream",
     "text": [
      "0 Earth\n",
      "1 Earth\n",
      "2 Earth\n",
      "3 Earth\n",
      "4 Earth\n",
      "5 Earth\n",
      "6 Earth\n",
      "7 Earth\n",
      "8 Earth\n",
      "9 Earth\n"
     ]
    }
   ],
   "source": [
    "\n",
    " cfor i in range(0,10):\n",
    "    print(i, \"Earth\")"
   ]
  },
  {
   "cell_type": "code",
   "execution_count": 36,
   "id": "57421c43",
   "metadata": {},
   "outputs": [
    {
     "name": "stdout",
     "output_type": "stream",
     "text": [
      "Enter your range: 4\n",
      "Enter a name: we\n",
      "we\n",
      "Enter a name: are\n",
      "are\n",
      "Enter a name: emp\n",
      "emp\n",
      "Enter a name: ord\n",
      "ord\n"
     ]
    }
   ],
   "source": [
    "# Take number of employees\n",
    "n=int(input(\"Enter your range: \"))\n",
    "for i in range(0,n):\n",
    "    name=input(\"Enter a name: \")\n",
    "    print(name)"
   ]
  },
  {
   "cell_type": "code",
   "execution_count": 37,
   "id": "da18887f",
   "metadata": {},
   "outputs": [
    {
     "name": "stdout",
     "output_type": "stream",
     "text": [
      "Enter your range: 5\n",
      "Enter your number: 1\n",
      "It's Odd\n",
      "Enter your number: 2\n",
      "It's Even\n",
      "Enter your number: 3\n",
      "It's Odd\n",
      "Enter your number: 4\n",
      "It's Even\n",
      "Enter your number: 5\n",
      "It's Odd\n"
     ]
    }
   ],
   "source": [
    "# Take n numbers from user and tell whether it is even or odd\n",
    "n=int(input(\"Enter your range: \"))\n",
    "for i in range(0,n):\n",
    "    num=int(input(\"Enter your number: \"))\n",
    "    if(num%2==0):\n",
    "        print(\"It's Even\")\n",
    "    else:\n",
    "        print(\"It's Odd\")"
   ]
  },
  {
   "cell_type": "code",
   "execution_count": 31,
   "id": "a4c0f1fc",
   "metadata": {},
   "outputs": [
    {
     "name": "stdout",
     "output_type": "stream",
     "text": [
      "0 p\n",
      "1 y\n",
      "2 t\n",
      "3 h\n",
      "4 o\n",
      "5 n\n"
     ]
    }
   ],
   "source": [
    "word=\"python\"\n",
    "for i in range(0,len(word),1): # last digit is step value\n",
    "    print(i, word[i])"
   ]
  },
  {
   "cell_type": "code",
   "execution_count": 27,
   "id": "22103f01",
   "metadata": {},
   "outputs": [
    {
     "name": "stdout",
     "output_type": "stream",
     "text": [
      "Count:4\n"
     ]
    }
   ],
   "source": [
    "# Calculate number of hashes\n",
    "c=0\n",
    "wor=\"#Algebra###\"\n",
    "for i in range(0,len(wor)):\n",
    "    if(wor[i]==\"#\"):\n",
    "        c=c+1\n",
    "print(f\"Count:{c}\")"
   ]
  },
  {
   "cell_type": "code",
   "execution_count": 32,
   "id": "2a2fbe2f",
   "metadata": {},
   "outputs": [
    {
     "name": "stdout",
     "output_type": "stream",
     "text": [
      "5 n\n",
      "4 o\n",
      "3 h\n",
      "2 t\n",
      "1 y\n",
      "0 p\n"
     ]
    }
   ],
   "source": [
    "word=\"python\"\n",
    "for i in range(len(word)-1,-1,-1): # reverse printing position\n",
    "    print(i, word[i])"
   ]
  },
  {
   "cell_type": "code",
   "execution_count": 43,
   "id": "b754ee58",
   "metadata": {},
   "outputs": [
    {
     "name": "stdout",
     "output_type": "stream",
     "text": [
      "8751\n"
     ]
    }
   ],
   "source": [
    "# To collect otp from message\n",
    "\n",
    "otp=\"\"\n",
    "msg=\"OTP sent is 8751\"\n",
    "for i in range(0,len(msg)):\n",
    "    if(msg[i].isdigit()):\n",
    "       # print(msg[i])\n",
    "        otp=otp+msg[i]\n",
    "print(otp)"
   ]
  },
  {
   "cell_type": "code",
   "execution_count": 21,
   "id": "9d0b2bb1",
   "metadata": {},
   "outputs": [
    {
     "name": "stdout",
     "output_type": "stream",
     "text": [
      "7524587452\n"
     ]
    }
   ],
   "source": [
    "# Extract mobile number from msg\n",
    "\n",
    "msg='OTP sent is 8751 on 7524587452'\n",
    "digits = ''\n",
    "mobile = ''\n",
    "for i in msg:\n",
    "    if i.isdigit():\n",
    "        digits=digits+i\n",
    "\n",
    "mobile = digits[4:]\n",
    "print(mobile)"
   ]
  },
  {
   "cell_type": "code",
   "execution_count": 41,
   "id": "7ff72df9",
   "metadata": {},
   "outputs": [
    {
     "name": "stdout",
     "output_type": "stream",
     "text": [
      "Pink Panther"
     ]
    }
   ],
   "source": [
    "stringName=\"Pink Panther\"\n",
    "for i in range(0, len(stringName)):\n",
    "    print(stringName[i], end=\"\") # end=\"\\t\" will provide tab space between outputs\n",
    "    #print(stringName[i], end=\"*\")"
   ]
  },
  {
   "cell_type": "code",
   "execution_count": null,
   "id": "bea942ac",
   "metadata": {},
   "outputs": [],
   "source": []
  },
  {
   "cell_type": "markdown",
   "id": "51cfa5c8",
   "metadata": {},
   "source": [
    "## While Loop"
   ]
  },
  {
   "cell_type": "code",
   "execution_count": null,
   "id": "d302984a",
   "metadata": {},
   "outputs": [],
   "source": [
    "# To take care of repetative tasks\n",
    "# Iterate over the sequence"
   ]
  },
  {
   "cell_type": "code",
   "execution_count": 27,
   "id": "bdd65207",
   "metadata": {},
   "outputs": [
    {
     "name": "stdout",
     "output_type": "stream",
     "text": [
      "0 Earth\n",
      "1 Earth\n",
      "2 Earth\n",
      "3 Earth\n",
      "4 Earth\n",
      "5 Earth\n",
      "6 Earth\n",
      "7 Earth\n",
      "8 Earth\n",
      "9 Earth\n",
      "10 Earth\n",
      "9 Earth\n",
      "8 Earth\n",
      "7 Earth\n",
      "6 Earth\n",
      "5 Earth\n",
      "4 Earth\n",
      "3 Earth\n",
      "2 Earth\n",
      "1 Earth\n"
     ]
    }
   ],
   "source": [
    "# Print earth 10 times\n",
    "\n",
    "i=0\n",
    "while i<10:\n",
    "    print(i, \"Earth\")\n",
    "    i=i+1\n",
    "# to print using another way\n",
    "i = 10\n",
    "while i > 0 : # \n",
    "    print(i, \"Earth\")\n",
    "    i = i - 1"
   ]
  },
  {
   "cell_type": "code",
   "execution_count": 42,
   "id": "7a38f7b8",
   "metadata": {},
   "outputs": [
    {
     "name": "stdout",
     "output_type": "stream",
     "text": [
      "p*y*t*h*o*n*"
     ]
    }
   ],
   "source": [
    "# Print \n",
    "i=0\n",
    "word=\"python\"\n",
    "while i<(len(word)):\n",
    "    print(word[i], end=\"*\")\n",
    "   # i=i+1\n",
    "    i+=1"
   ]
  },
  {
   "cell_type": "markdown",
   "id": "3e269166",
   "metadata": {},
   "source": [
    "## Break and Continue"
   ]
  },
  {
   "cell_type": "code",
   "execution_count": null,
   "id": "dc4aeac8",
   "metadata": {},
   "outputs": [],
   "source": [
    "# Break\n",
    "# -->Terminate the loop if expression is TRUE\n",
    "# --> No statement after break is executed"
   ]
  },
  {
   "cell_type": "code",
   "execution_count": 44,
   "id": "3d65e1b7",
   "metadata": {},
   "outputs": [
    {
     "name": "stdout",
     "output_type": "stream",
     "text": [
      "A\n",
      "l\n",
      "g\n",
      "e\n",
      "b\n",
      "r\n",
      "a\n",
      "CHECK\n",
      ".....LOOP ENDED.....\n"
     ]
    }
   ],
   "source": [
    "# Break if # occures , Stop\n",
    "word=\"Algebra###s are best\"\n",
    "for i in range(len(word)):\n",
    "    if word[i]==\"#\":\n",
    "        print(\"CHECK\")\n",
    "        break\n",
    "        print(\"Break is executed\")\n",
    "    else:\n",
    "        print(word[i])\n",
    "print(\".....LOOP ENDED.....\")"
   ]
  },
  {
   "cell_type": "code",
   "execution_count": null,
   "id": "61708944",
   "metadata": {},
   "outputs": [],
   "source": [
    "# Continue\n",
    "# --> Skips the statement where the expression is TRUE\n",
    "# --> No statement after the continue is executed"
   ]
  },
  {
   "cell_type": "code",
   "execution_count": 29,
   "id": "85d5255b",
   "metadata": {},
   "outputs": [
    {
     "name": "stdout",
     "output_type": "stream",
     "text": [
      "A\n",
      "l\n",
      "g\n",
      "e\n",
      "b\n",
      "r\n",
      "a\n",
      "CHECK\n",
      "CHECK\n",
      "CHECK\n",
      "s\n",
      " \n",
      "a\n",
      "r\n",
      "e\n",
      " \n",
      "b\n",
      "e\n",
      "s\n",
      "t\n",
      ".....LOOP ENDED.....\n"
     ]
    }
   ],
   "source": [
    "# Skip the char that is '#'\n",
    "word=\"Algebra###s are best\"\n",
    "for i in range(len(word)):\n",
    "    if word[i]==\"#\":\n",
    "        print(\"CHECK\")\n",
    "        continue\n",
    "        print(\"Continue is executed\")\n",
    "    else:\n",
    "        print(word[i])\n",
    "print(\".....LOOP ENDED.....\")"
   ]
  },
  {
   "cell_type": "code",
   "execution_count": null,
   "id": "d74d9f78",
   "metadata": {},
   "outputs": [],
   "source": []
  },
  {
   "cell_type": "markdown",
   "id": "3539b362",
   "metadata": {},
   "source": [
    "## While Infinite"
   ]
  },
  {
   "cell_type": "code",
   "execution_count": 31,
   "id": "2665aee0",
   "metadata": {},
   "outputs": [],
   "source": [
    "# only way to terminate the loop is with the help of break"
   ]
  },
  {
   "cell_type": "code",
   "execution_count": 45,
   "id": "ac35fb9d",
   "metadata": {},
   "outputs": [
    {
     "name": "stdout",
     "output_type": "stream",
     "text": [
      "Use 'QQ' to terminate the loop\n",
      "Mention animal name: er\n",
      "ER\n",
      "Mention animal name: er\n",
      "ER\n",
      "Mention animal name: edf\n",
      "EDF\n",
      "Mention animal name: we\n",
      "WE\n",
      "Mention animal name: se\n",
      "SE\n",
      "Mention animal name: ew\n",
      "EW\n",
      "Mention animal name: qq\n"
     ]
    }
   ],
   "source": [
    "# Take animal names from user until user press 'QQ'\n",
    "print(\"Use 'QQ' to terminate the loop\")\n",
    "while True :\n",
    "    animalName=input(\"Mention animal name: \")\n",
    "    if animalName.upper().strip()==\"QQ\":\n",
    "        break\n",
    "    print(animalName.upper())"
   ]
  },
  {
   "cell_type": "code",
   "execution_count": null,
   "id": "b8c1001c",
   "metadata": {},
   "outputs": [],
   "source": []
  }
 ],
 "metadata": {
  "kernelspec": {
   "display_name": "Python 3 (ipykernel)",
   "language": "python",
   "name": "python3"
  },
  "language_info": {
   "codemirror_mode": {
    "name": "ipython",
    "version": 3
   },
   "file_extension": ".py",
   "mimetype": "text/x-python",
   "name": "python",
   "nbconvert_exporter": "python",
   "pygments_lexer": "ipython3",
   "version": "3.9.13"
  }
 },
 "nbformat": 4,
 "nbformat_minor": 5
}
