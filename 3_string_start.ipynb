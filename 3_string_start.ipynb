{
 "cells": [
  {
   "cell_type": "markdown",
   "id": "f995b0dc",
   "metadata": {},
   "source": [
    "# Strings"
   ]
  },
  {
   "cell_type": "code",
   "execution_count": null,
   "id": "e0941293",
   "metadata": {},
   "outputs": [],
   "source": [
    "# Collection of characters\n",
    "# Single line string enclosed with \"\" or ''\n",
    "# Multiple line string enclosd with \"\"\" \"\"\" or ''' '''\n",
    "# Use str() for Typecasting"
   ]
  },
  {
   "cell_type": "markdown",
   "id": "f791e964",
   "metadata": {},
   "source": [
    "## Basic Operations"
   ]
  },
  {
   "cell_type": "code",
   "execution_count": null,
   "id": "a0815876",
   "metadata": {},
   "outputs": [],
   "source": [
    "# Basic Operations\n",
    "# 1.Length --> No.of Characters in string including spaces\n",
    "# 2.Indexing --> Reading string position \n",
    "#        - can be read from left to right and right to left\n",
    "#        - discrete number\n",
    "#        - syn:: stringName[position]\n",
    "# 3.Slicing --> read multiple characters\n",
    "#         -syn:: stringName[start:end:stepsize]\n",
    "#         -start(default is 0)\n",
    "#         -end is exclusive(need to use < when reading full length of string)\n",
    "#         -stepsize(default is 1)\n",
    "# 4. Concatenate --> Merging two or more strings (+)\n",
    "# 5. Repeat --> Used to repeat the given string (*)\n",
    "#         -syn::stringName*number/number*stringName\n",
    "# 6. Membership --> will evaluate weather element is present inside Sequence or not (in)"
   ]
  },
  {
   "cell_type": "code",
   "execution_count": 1,
   "id": "73d2f68c",
   "metadata": {},
   "outputs": [
    {
     "name": "stdout",
     "output_type": "stream",
     "text": [
      "15\n"
     ]
    }
   ],
   "source": [
    "# Length\n",
    "s=\" I am a learner\"\n",
    "print(len(s))"
   ]
  },
  {
   "cell_type": "code",
   "execution_count": 7,
   "id": "fcda5cdc",
   "metadata": {},
   "outputs": [
    {
     "name": "stdout",
     "output_type": "stream",
     "text": [
      "n\n",
      "n\n"
     ]
    }
   ],
   "source": [
    "# Indexing\n",
    "st=\"python\"\n",
    "#print(st[len(s)])\n",
    "print(st[5])\n",
    "print(st[-1])"
   ]
  },
  {
   "cell_type": "code",
   "execution_count": 10,
   "id": "da70f765",
   "metadata": {},
   "outputs": [
    {
     "name": "stdout",
     "output_type": "stream",
     "text": [
      "pyt\n",
      "ptopto\n"
     ]
    }
   ],
   "source": [
    "# Slicing\n",
    "a=\"python\"\n",
    "print(a[0:3]) # to read first 3 characters\n",
    "print((a[0::2])*2) # to read even positions"
   ]
  },
  {
   "cell_type": "code",
   "execution_count": 12,
   "id": "771af0f8",
   "metadata": {},
   "outputs": [
    {
     "name": "stdout",
     "output_type": "stream",
     "text": [
      "Enter a string:123321\n",
      "It's a palindrome\n"
     ]
    }
   ],
   "source": [
    "# Palindrome\n",
    "# ex:: naman, 12321, nayan, etc...\n",
    "w=input(\"Enter a string:\")\n",
    "if w[::1]==w[::-1]:\n",
    "    print(\"It's a palindrome\")\n",
    "else:\n",
    "    print(\"It's not a palindrome\")"
   ]
  },
  {
   "cell_type": "code",
   "execution_count": 14,
   "id": "bc0ff382",
   "metadata": {},
   "outputs": [
    {
     "name": "stdout",
     "output_type": "stream",
     "text": [
      "hello world\n",
      "hello world 2022\n"
     ]
    }
   ],
   "source": [
    "# Concatenate\n",
    "f=\"hello\"\n",
    "l=\"world\"\n",
    "print(f+\" \"+l)\n",
    "print(f+\" \"+l+\" \"+str(2022)) # for any other type adding need to typecast first"
   ]
  },
  {
   "cell_type": "code",
   "execution_count": 19,
   "id": "4d874f1a",
   "metadata": {},
   "outputs": [
    {
     "name": "stdout",
     "output_type": "stream",
     "text": [
      "pythonpythonpython\n",
      "ooo\n",
      "ptopto\n"
     ]
    }
   ],
   "source": [
    "# Repeat\n",
    "a = \"python\"\n",
    "print(a*3)\n",
    "print( a[4] * 3 ) # to repeat particular character\n",
    "print( a[ : : 2]  * 2) # to repeat even position characters"
   ]
  },
  {
   "cell_type": "code",
   "execution_count": 20,
   "id": "eb9536ef",
   "metadata": {},
   "outputs": [
    {
     "name": "stdout",
     "output_type": "stream",
     "text": [
      "True\n",
      "False\n"
     ]
    }
   ],
   "source": [
    "# Membership\n",
    "\n",
    "print(\"S\" in \"Superstar\") \n",
    "print(\"T\" in \"Superstar\")"
   ]
  },
  {
   "cell_type": "markdown",
   "id": "2e6c1b76",
   "metadata": {},
   "source": [
    "## String Methods"
   ]
  },
  {
   "cell_type": "code",
   "execution_count": null,
   "id": "2bc2c251",
   "metadata": {},
   "outputs": [],
   "source": [
    "# Methods also known as functions\n",
    "# Any object is a function\n",
    "# Syn:: objectName.Method()"
   ]
  },
  {
   "cell_type": "code",
   "execution_count": 21,
   "id": "d197e829",
   "metadata": {},
   "outputs": [
    {
     "name": "stdout",
     "output_type": "stream",
     "text": [
      "python programming\n",
      "PYTHON PROGRAMMING\n",
      "PYthON pROGRAMminG\n",
      "Python Programming\n",
      "Python programming\n"
     ]
    }
   ],
   "source": [
    "# 1.Changing Cases --> Used to change the cases of a string\n",
    "\n",
    "s = \"pyTHon ProgramMINg\"\n",
    "print(s.lower()) # total to lower case\n",
    "print(s.upper()) # total to upper case\n",
    "print(s.swapcase()) # upper to lower and viceversa\n",
    "print(s.title()) # First char of Word is uppercase, rest all are Lowercase\n",
    "print(s.capitalize()) # First char of STRING is uppercase, rest all are Lowercase"
   ]
  },
  {
   "cell_type": "code",
   "execution_count": 24,
   "id": "c48e7beb",
   "metadata": {},
   "outputs": [
    {
     "name": "stdout",
     "output_type": "stream",
     "text": [
      "    python    \n",
      "14\n",
      "python\n",
      "6\n"
     ]
    }
   ],
   "source": [
    "# 2.Removing Blank spaces from the string\n",
    "# Syn:: stringName.strip()\n",
    "s = \"    python    \"\n",
    "print(s)\n",
    "print(len(s))\n",
    "s = s.strip()\n",
    "print(s)\n",
    "print(len(s)) # change of length after strip"
   ]
  },
  {
   "cell_type": "code",
   "execution_count": null,
   "id": "9b9540a3",
   "metadata": {},
   "outputs": [],
   "source": []
  }
 ],
 "metadata": {
  "kernelspec": {
   "display_name": "Python 3 (ipykernel)",
   "language": "python",
   "name": "python3"
  },
  "language_info": {
   "codemirror_mode": {
    "name": "ipython",
    "version": 3
   },
   "file_extension": ".py",
   "mimetype": "text/x-python",
   "name": "python",
   "nbconvert_exporter": "python",
   "pygments_lexer": "ipython3",
   "version": "3.9.13"
  }
 },
 "nbformat": 4,
 "nbformat_minor": 5
}
